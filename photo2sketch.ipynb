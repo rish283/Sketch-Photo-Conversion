{
 "cells": [
  {
   "cell_type": "code",
   "execution_count": 2,
   "metadata": {
    "collapsed": false
   },
   "outputs": [],
   "source": [
    "# code to convert photos to sketch\n",
    "\n",
    "import numpy as np \n",
    "import pandas as pd\n",
    "import cv2\n",
    "\n",
    "for i in range(1, 22500):\n",
    "\n",
    "    a = \"test/\" + str(i) + \".jpg\"\n",
    "    img_gray = cv2.imread(a, cv2.IMREAD_GRAYSCALE)\n",
    "    #img_gray = cv2.resize(img_gray, (100,1)\n",
    "\n",
    "    img_gray_inv = 255 - img_gray\n",
    "\n",
    "    img_blur = cv2.GaussianBlur(img_gray_inv, ksize=(21, 21),\n",
    "                                sigmaX=0, sigmaY=0)\n",
    "\n",
    "    def dodgeV2(image, mask):\n",
    "        return cv2.divide(image, 255-mask, scale=256)\n",
    "\n",
    "    img_blend = dodgeV2(img_gray, img_blur)\n",
    "    b = \"test/\" + str(i) +\".jpg\"\n",
    "    cv2.imwrite(b, img_blend)\n"
   ]
  }
 ],
 "metadata": {
  "anaconda-cloud": {},
  "kernelspec": {
   "display_name": "Python [default]",
   "language": "python",
   "name": "python3"
  },
  "language_info": {
   "codemirror_mode": {
    "name": "ipython",
    "version": 3
   },
   "file_extension": ".py",
   "mimetype": "text/x-python",
   "name": "python",
   "nbconvert_exporter": "python",
   "pygments_lexer": "ipython3",
   "version": "3.5.2"
  }
 },
 "nbformat": 4,
 "nbformat_minor": 1
}

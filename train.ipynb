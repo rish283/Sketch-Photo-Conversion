{
 "cells": [
  {
   "cell_type": "code",
   "execution_count": null,
   "metadata": {
    "collapsed": false
   },
   "outputs": [],
   "source": [
    "\n",
    "\n",
    "import os\n",
    "import cv2\n",
    "import numpy as np\n",
    "from tqdm import tqdm\n",
    "\n",
    "# training directories\n",
    "TRAININ_DIR = 'cuhksketches'\n",
    "TRAINOUT_DIR = 'CUHKphotos'\n",
    "\n",
    "#function to create and save training data and resize it to 40*40 pixels\n",
    "def create_train_data():\n",
    "    i = 0\n",
    "    training_output = []\n",
    "    training_input = []\n",
    "    for img in tqdm(os.listdir(TRAININ_DIR)):\n",
    "        path = os.path.join(TRAININ_DIR,img)\n",
    "        img = cv2.imread(path)\n",
    "        img = cv2.resize(img, (40,40))\n",
    "        training_input.append([np.array(img)])\n",
    "        \n",
    "       \n",
    "    \n",
    "    for img in tqdm(os.listdir(TRAINOUT_DIR)):\n",
    "        path = os.path.join(TRAINOUT_DIR,img)\n",
    "        img1 = cv2.imread(path)\n",
    "        img1 = cv2.resize(img1, (40,40))\n",
    "        training_output.append([np.array(img1)])\n",
    "        \n",
    "        \n",
    "    \n",
    "    \n",
    "   \n",
    "    np.save('training_input_cuhk.npy', training_input)\n",
    "    np.save('training_output_cuhk.npy', training_output)\n",
    "    \n",
    "    return training_input"
   ]
  },
  {
   "cell_type": "code",
   "execution_count": null,
   "metadata": {
    "collapsed": false
   },
   "outputs": [],
   "source": [
    "train_data = create_train_data()"
   ]
  },
  {
   "cell_type": "code",
   "execution_count": null,
   "metadata": {
    "collapsed": true
   },
   "outputs": [],
   "source": [
    "import numpy as np\n",
    "\n",
    "#load saved training data if using in the future\n",
    "training_input = np.load('training_input_cuhk.npy')\n",
    "training_output = np.load('training_output_cuhk.npy')"
   ]
  },
  {
   "cell_type": "code",
   "execution_count": null,
   "metadata": {
    "collapsed": false
   },
   "outputs": [],
   "source": [
    "#splitting training input and output into training and validationg sets to correct sizes\n",
    "\n",
    "X = training_input[:180].reshape(-1,40,40,3)\n",
    "Y = training_output[:180].reshape(-1,40,40,3)\n",
    "\n",
    "test_x = training_input[180:].reshape(-1,40,40,3)\n",
    "test_y = training_output[180:].reshape(-1,40,40,3)\n",
    "\n"
   ]
  },
  {
   "cell_type": "code",
   "execution_count": null,
   "metadata": {
    "collapsed": false
   },
   "outputs": [],
   "source": [
    "import tensorflow as tf\n",
    "tf.reset_default_graph()\n",
    "\n",
    "\n",
    "import tflearn\n",
    "from tflearn.layers.conv import conv_2d, max_pool_2d, conv_2d_transpose, residual_block\n",
    "from tflearn.layers.core import input_data, dropout, fully_connected\n",
    "from tflearn.layers.estimator import regression\n",
    "from tflearn.layers.normalization import batch_normalization\n",
    "\n",
    "convnet = input_data(shape=[None, 40, 40, 3], name='input')\n",
    "\n",
    "convnet = conv_2d(convnet, 32, 5, activation='relu')\n",
    "##convnet = batch_normalization(convnet)\n",
    "##convnet = max_pool_2d(convnet, 5)\n",
    "\n",
    "convnet = conv_2d(convnet, 64, 5, activation='relu')\n",
    "convnet = conv_2d(convnet, 32, 5, activation='relu')\n",
    "##convnet = max_pool_2d(convnet, 5)\n",
    "\n",
    "##convnet = conv_2d(convnet, 64, 5, activation='relu')\n",
    "##convnet = conv_2d(convnet, 32, 5, activation='relu')\n",
    "##convnet = max_pool_2d(convnet, 5)\n",
    "\n",
    "convnet = conv_2d(convnet, 64, 5, activation='relu')\n",
    "convnet = conv_2d(convnet, 32, 5, activation='relu')\n",
    "convnet = conv_2d(convnet, 64, 5, activation='relu')\n",
    "\n",
    "##convnet = batch_normalization(convnet)\n",
    "##convnet = conv_2d(convnet, 32, 5, activation='relu')\n",
    "##convnet = max_pool_2d(convnet, 5)\n",
    "\n",
    "##convnet = conv_2d(convnet, 64, 5, activation='relu')\n",
    "\n",
    "##convnet = residual_block(convnet, 3, 128, activation='relu')\n",
    "##convnet = batch_normalization(convnet)\n",
    "##convnet = residual_block(convnet, 3, 128, activation='relu')\n",
    "##convnet = batch_normalization(convnet)\n",
    "##convnet = residual_block(convnet, 3, 128, activation='relu')\n",
    "\n",
    "##convnet = conv_2d_transpose(convnet, 8, 3,[96,96], activation='relu')\n",
    "##convnet = batch_normalization(convnet)\n",
    "\n",
    "\n",
    "convnet = dropout(convnet, 0.8)\n",
    "\n",
    "convnet = conv_2d(convnet,3, 5, activation='linear')\n",
    "##convnet = batch_normalization(convnet)\n",
    "convnet = regression(convnet, optimizer='sgd', learning_rate=0.001, loss='mean_square', name='targets')\n",
    "\n",
    "model = tflearn.DNN(convnet, tensorboard_dir='log')\n",
    "\n",
    "\n",
    "model.fit({'input': X}, {'targets': Y}, n_epoch=200, validation_set=({'input': test_x}, {'targets': test_y}), \n",
    "    snapshot_step=5, show_metric=True)"
   ]
  },
  {
   "cell_type": "code",
   "execution_count": null,
   "metadata": {
    "collapsed": false
   },
   "outputs": [],
   "source": [
    "#predict output model for a given test data and save\n",
    "\n",
    "import cv2\n",
    "import matplotlib.pyplot as plt\n",
    "%matplotlib inline\n",
    "\n",
    "test_data = X[10]\n",
    "\n",
    "cv2.imwrite('143one.png', test_data)\n",
    "np.shape(test_data)\n",
    "model_out = model.predict([test_data])\n",
    "\n",
    "\n",
    "x = np.reshape(model_out, (40,40,3))\n",
    "\n",
    "cv2.imwrite('143.png', x)\n",
    "cv2.waitKey(0)\n",
    "cv2.destroyAllWindows()\n"
   ]
  },
  {
   "cell_type": "code",
   "execution_count": null,
   "metadata": {
    "collapsed": true
   },
   "outputs": [],
   "source": [
    "#link to view tensorboard plots in python\n",
    "\n",
    "tensorboard --logdir=foo:C:\\log"
   ]
  }
 ],
 "metadata": {
  "anaconda-cloud": {},
  "kernelspec": {
   "display_name": "Python [default]",
   "language": "python",
   "name": "python3"
  },
  "language_info": {
   "codemirror_mode": {
    "name": "ipython",
    "version": 3
   },
   "file_extension": ".py",
   "mimetype": "text/x-python",
   "name": "python",
   "nbconvert_exporter": "python",
   "pygments_lexer": "ipython3",
   "version": "3.5.2"
  }
 },
 "nbformat": 4,
 "nbformat_minor": 1
}
